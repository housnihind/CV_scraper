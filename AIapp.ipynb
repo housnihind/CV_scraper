{
  "nbformat": 4,
  "nbformat_minor": 0,
  "metadata": {
    "colab": {
      "name": "AIapp.ipynb",
      "provenance": [],
      "collapsed_sections": [],
      "toc_visible": true
    },
    "kernelspec": {
      "name": "python3",
      "display_name": "Python 3"
    },
    "language_info": {
      "name": "python"
    }
  },
  "cells": [
    {
      "cell_type": "code",
      "execution_count": 1,
      "metadata": {
        "colab": {
          "base_uri": "https://localhost:8080/"
        },
        "id": "swNjMHGWaZW1",
        "outputId": "eee9a73c-7600-4285-8c35-3eaf4bffa96f"
      },
      "outputs": [
        {
          "output_type": "stream",
          "name": "stdout",
          "text": [
            "Reading package lists... Done\n",
            "Building dependency tree       \n",
            "Reading state information... Done\n",
            "The following package was automatically installed and is no longer required:\n",
            "  libnvidia-common-460\n",
            "Use 'apt autoremove' to remove it.\n",
            "The following NEW packages will be installed:\n",
            "  poppler-utils\n",
            "0 upgraded, 1 newly installed, 0 to remove and 20 not upgraded.\n",
            "Need to get 154 kB of archives.\n",
            "After this operation, 613 kB of additional disk space will be used.\n",
            "Get:1 http://archive.ubuntu.com/ubuntu bionic-updates/main amd64 poppler-utils amd64 0.62.0-2ubuntu2.12 [154 kB]\n",
            "Fetched 154 kB in 1s (277 kB/s)\n",
            "Selecting previously unselected package poppler-utils.\n",
            "(Reading database ... 155676 files and directories currently installed.)\n",
            "Preparing to unpack .../poppler-utils_0.62.0-2ubuntu2.12_amd64.deb ...\n",
            "Unpacking poppler-utils (0.62.0-2ubuntu2.12) ...\n",
            "Setting up poppler-utils (0.62.0-2ubuntu2.12) ...\n",
            "Processing triggers for man-db (2.8.3-2ubuntu0.1) ...\n",
            "Looking in indexes: https://pypi.org/simple, https://us-python.pkg.dev/colab-wheels/public/simple/\n",
            "Collecting pdf2image\n",
            "  Downloading pdf2image-1.16.0-py3-none-any.whl (10 kB)\n",
            "Requirement already satisfied: pillow in /usr/local/lib/python3.7/dist-packages (from pdf2image) (7.1.2)\n",
            "Installing collected packages: pdf2image\n",
            "Successfully installed pdf2image-1.16.0\n",
            "Looking in indexes: https://pypi.org/simple, https://us-python.pkg.dev/colab-wheels/public/simple/\n",
            "Collecting easyocr\n",
            "  Downloading easyocr-1.5.0-py3-none-any.whl (70.8 MB)\n",
            "\u001b[K     |████████████████████████████████| 70.8 MB 16 kB/s \n",
            "\u001b[?25hCollecting opencv-python-headless<=4.5.4.60\n",
            "  Downloading opencv_python_headless-4.5.4.60-cp37-cp37m-manylinux_2_17_x86_64.manylinux2014_x86_64.whl (47.6 MB)\n",
            "\u001b[K     |████████████████████████████████| 47.6 MB 1.2 MB/s \n",
            "\u001b[?25hRequirement already satisfied: Pillow in /usr/local/lib/python3.7/dist-packages (from easyocr) (7.1.2)\n",
            "Collecting python-bidi\n",
            "  Downloading python_bidi-0.4.2-py2.py3-none-any.whl (30 kB)\n",
            "Requirement already satisfied: numpy in /usr/local/lib/python3.7/dist-packages (from easyocr) (1.21.6)\n",
            "Requirement already satisfied: torchvision>=0.5 in /usr/local/lib/python3.7/dist-packages (from easyocr) (0.13.1+cu113)\n",
            "Requirement already satisfied: torch in /usr/local/lib/python3.7/dist-packages (from easyocr) (1.12.1+cu113)\n",
            "Requirement already satisfied: scipy in /usr/local/lib/python3.7/dist-packages (from easyocr) (1.7.3)\n",
            "Requirement already satisfied: scikit-image in /usr/local/lib/python3.7/dist-packages (from easyocr) (0.18.3)\n",
            "Requirement already satisfied: PyYAML in /usr/local/lib/python3.7/dist-packages (from easyocr) (6.0)\n",
            "Requirement already satisfied: requests in /usr/local/lib/python3.7/dist-packages (from torchvision>=0.5->easyocr) (2.23.0)\n",
            "Requirement already satisfied: typing-extensions in /usr/local/lib/python3.7/dist-packages (from torchvision>=0.5->easyocr) (4.1.1)\n",
            "Requirement already satisfied: six in /usr/local/lib/python3.7/dist-packages (from python-bidi->easyocr) (1.15.0)\n",
            "Requirement already satisfied: certifi>=2017.4.17 in /usr/local/lib/python3.7/dist-packages (from requests->torchvision>=0.5->easyocr) (2022.6.15)\n",
            "Requirement already satisfied: idna<3,>=2.5 in /usr/local/lib/python3.7/dist-packages (from requests->torchvision>=0.5->easyocr) (2.10)\n",
            "Requirement already satisfied: chardet<4,>=3.0.2 in /usr/local/lib/python3.7/dist-packages (from requests->torchvision>=0.5->easyocr) (3.0.4)\n",
            "Requirement already satisfied: urllib3!=1.25.0,!=1.25.1,<1.26,>=1.21.1 in /usr/local/lib/python3.7/dist-packages (from requests->torchvision>=0.5->easyocr) (1.24.3)\n",
            "Requirement already satisfied: matplotlib!=3.0.0,>=2.0.0 in /usr/local/lib/python3.7/dist-packages (from scikit-image->easyocr) (3.2.2)\n",
            "Requirement already satisfied: PyWavelets>=1.1.1 in /usr/local/lib/python3.7/dist-packages (from scikit-image->easyocr) (1.3.0)\n",
            "Requirement already satisfied: networkx>=2.0 in /usr/local/lib/python3.7/dist-packages (from scikit-image->easyocr) (2.6.3)\n",
            "Requirement already satisfied: imageio>=2.3.0 in /usr/local/lib/python3.7/dist-packages (from scikit-image->easyocr) (2.9.0)\n",
            "Requirement already satisfied: tifffile>=2019.7.26 in /usr/local/lib/python3.7/dist-packages (from scikit-image->easyocr) (2021.11.2)\n",
            "Requirement already satisfied: pyparsing!=2.0.4,!=2.1.2,!=2.1.6,>=2.0.1 in /usr/local/lib/python3.7/dist-packages (from matplotlib!=3.0.0,>=2.0.0->scikit-image->easyocr) (3.0.9)\n",
            "Requirement already satisfied: kiwisolver>=1.0.1 in /usr/local/lib/python3.7/dist-packages (from matplotlib!=3.0.0,>=2.0.0->scikit-image->easyocr) (1.4.4)\n",
            "Requirement already satisfied: python-dateutil>=2.1 in /usr/local/lib/python3.7/dist-packages (from matplotlib!=3.0.0,>=2.0.0->scikit-image->easyocr) (2.8.2)\n",
            "Requirement already satisfied: cycler>=0.10 in /usr/local/lib/python3.7/dist-packages (from matplotlib!=3.0.0,>=2.0.0->scikit-image->easyocr) (0.11.0)\n",
            "Installing collected packages: python-bidi, opencv-python-headless, easyocr\n",
            "  Attempting uninstall: opencv-python-headless\n",
            "    Found existing installation: opencv-python-headless 4.6.0.66\n",
            "    Uninstalling opencv-python-headless-4.6.0.66:\n",
            "      Successfully uninstalled opencv-python-headless-4.6.0.66\n",
            "Successfully installed easyocr-1.5.0 opencv-python-headless-4.5.4.60 python-bidi-0.4.2\n"
          ]
        }
      ],
      "source": [
        "!apt-get install poppler-utils\n",
        "!pip install pdf2image\n",
        "!pip install easyocr\n"
      ]
    },
    {
      "cell_type": "code",
      "source": [
        "from pdf2image import convert_from_path\n",
        "import easyocr\n",
        "import numpy as np\n",
        "import PIL\n",
        "from PIL import ImageDraw\n",
        "import spacy"
      ],
      "metadata": {
        "id": "9-yDDJVpanIB"
      },
      "execution_count": 2,
      "outputs": []
    },
    {
      "cell_type": "code",
      "source": [
        "reader = easyocr.Reader(['fr'])"
      ],
      "metadata": {
        "colab": {
          "base_uri": "https://localhost:8080/"
        },
        "id": "H8rm_So5a0CG",
        "outputId": "7b68d0cd-a7a0-4aef-c0bd-43594c340c44"
      },
      "execution_count": 4,
      "outputs": [
        {
          "output_type": "stream",
          "name": "stderr",
          "text": [
            "WARNING:easyocr.easyocr:CUDA not available - defaulting to CPU. Note: This module is much faster with a GPU.\n",
            "WARNING:easyocr.easyocr:Downloading recognition model, please wait. This may take several minutes depending upon your network connection.\n"
          ]
        },
        {
          "output_type": "stream",
          "name": "stdout",
          "text": [
            "Progress: |██████████████████████████████████████████████████| 100.0% Complete"
          ]
        }
      ]
    },
    {
      "cell_type": "code",
      "source": [
        "!wget /content/CV-SAMIH.pdf"
      ],
      "metadata": {
        "colab": {
          "base_uri": "https://localhost:8080/"
        },
        "id": "zAsJLIpoa5KC",
        "outputId": "26f49200-6252-46ef-97fd-8c099e47a26f"
      },
      "execution_count": 14,
      "outputs": [
        {
          "output_type": "stream",
          "name": "stdout",
          "text": [
            "/content/CV-SAMIH.pdf: Scheme missing.\n"
          ]
        }
      ]
    },
    {
      "cell_type": "code",
      "source": [
        "images = convert_from_path('CV-SAMIH.pdf')"
      ],
      "metadata": {
        "id": "L1S1wpH8bUi3"
      },
      "execution_count": 15,
      "outputs": []
    },
    {
      "cell_type": "code",
      "source": [
        "bounds = reader.readtext(np.array(images[0]), min_size=0, slope_ths=0.2, ycenter_ths=0.7, height_ths=0.6, width_ths=0.8,decoder='beamsearch', beamWidth=10)\n",
        "bounds"
      ],
      "metadata": {
        "colab": {
          "base_uri": "https://localhost:8080/"
        },
        "id": "pK2TUuE5bgKb",
        "outputId": "650119f3-066b-4502-fd7e-fb3dee86c9ca"
      },
      "execution_count": 17,
      "outputs": [
        {
          "output_type": "execute_result",
          "data": {
            "text/plain": [
              "[([[0, 80], [404, 80], [404, 134], [0, 134]],\n",
              "  'SALMA SAMIH',\n",
              "  0.9966936715502771),\n",
              " ([[0, 138], [1024, 138], [1024, 188], [0, 188]],\n",
              "  'Etudiante en première année génie industrielet maintenance',\n",
              "  0.6796309341372476),\n",
              " ([[0, 211], [122, 211], [122, 253], [0, 253]], 'Adresse', 0.9999963954477983),\n",
              " ([[144, 208], [971, 208], [971, 257], [144, 257]],\n",
              "  '11 Rue 03 Hay EL MESSOUDIA C D Casablanca-MAROC',\n",
              "  0.6833215814657131),\n",
              " ([[0, 247], [265, 247], [265, 289], [0, 289]],\n",
              "  'Tél : 0605111648',\n",
              "  0.7965484737548375),\n",
              " ([[0, 291], [441, 291], [441, 336], [0, 336]],\n",
              "  'Email : samih.salma@gmail .com',\n",
              "  0.7372948248582122),\n",
              " ([[97, 562], [633, 562], [633, 605], [97, 605]],\n",
              "  'FORMATIONS & DIPLOMES',\n",
              "  0.9815035861317618),\n",
              " ([[92, 646], [244, 646], [244, 682], [92, 682]],\n",
              "  '2021-2022',\n",
              "  0.5105722032167533),\n",
              " ([[292, 641], [1141, 641], [1141, 689], [292, 689]],\n",
              "  'Ecole Supérieure de Technologie de Safi, Université   Cadi iyyad',\n",
              "  0.7539354674869896),\n",
              " ([[293, 681], [940, 681], [940, 725], [293, 725]],\n",
              "  'Première année génie industriel et maintenance _',\n",
              "  0.6793152441846472),\n",
              " ([[91, 799], [243, 799], [243, 835], [91, 835]],\n",
              "  '2020-2021',\n",
              "  0.9999846616792616),\n",
              " ([[285, 791], [524, 791], [524, 842], [285, 842]],\n",
              "  'Lycée Hassan II',\n",
              "  0.9332771154126904),\n",
              " ([[292, 833], [1159, 833], [1159, 877], [292, 877]],\n",
              "  'Baccalauréat en Sciences physique et chimie; mention très bien.',\n",
              "  0.5496126751699804),\n",
              " ([[117, 941], [390, 941], [390, 995], [117, 995]],\n",
              "  'Compétences',\n",
              "  0.9994730927457278),\n",
              " ([[120, 1050], [352, 1050], [352, 1102], [120, 1102]],\n",
              "  'Techniques',\n",
              "  0.6944848364042118),\n",
              " ([[144, 1135], [1192, 1135], [1192, 1183], [144, 1183]],\n",
              "  'Conception assistée par ordinateur des systèmes mécaniques et électronique.',\n",
              "  0.8162182987705896),\n",
              " ([[117, 1228], [410, 1228], [410, 1281], [117, 1281]],\n",
              "  'Informatiques',\n",
              "  0.9999653167363056),\n",
              " ([[142, 1336], [385, 1336], [385, 1377], [142, 1377]],\n",
              "  'Programmation',\n",
              "  0.9999945777040616),\n",
              " ([[408, 1337], [567, 1337], [567, 1380], [408, 1380]],\n",
              "  'langage C.',\n",
              "  0.818038614735999),\n",
              " ([[142, 1392], [297, 1392], [297, 1432], [142, 1432]],\n",
              "  'CAO/DAO',\n",
              "  0.9992182997019142),\n",
              " ([[320, 1390], [529, 1390], [529, 1431], [320, 1431]],\n",
              "  'AutoCad, Catia.',\n",
              "  0.6949331341625286),\n",
              " ([[142, 1445], [279, 1445], [279, 1490], [142, 1490]],\n",
              "  'Logiciels',\n",
              "  0.9996516798588712),\n",
              " ([[305, 1445], [759, 1445], [759, 1487], [305, 1487]],\n",
              "  'Proteus Professional, MAX+PLUS,',\n",
              "  0.7226971082593886),\n",
              " ([[781, 1447], [1003, 1447], [1003, 1483], [781, 1483]],\n",
              "  'Microsoft Office.',\n",
              "  0.8798404314733371),\n",
              " ([[122, 1524], [394, 1524], [394, 1576], [122, 1576]],\n",
              "  'Linguistiques',\n",
              "  0.723488750759641),\n",
              " ([[144, 1610], [238, 1610], [238, 1642], [144, 1642]],\n",
              "  'Arabe',\n",
              "  0.9999747833793785),\n",
              " ([[269, 1609], [383, 1609], [383, 1645], [269, 1645]],\n",
              "  'Courant',\n",
              "  0.9999602595801397),\n",
              " ([[141, 1661], [279, 1661], [279, 1703], [141, 1703]],\n",
              "  'Français',\n",
              "  0.9999927507311722),\n",
              " ([[299, 1663], [505, 1663], [505, 1699], [299, 1699]],\n",
              "  'bonne maitrise',\n",
              "  0.7599149148695687),\n",
              " ([[143, 1719], [259, 1719], [259, 1759], [143, 1759]],\n",
              "  'Anglais',\n",
              "  0.9999918446946521),\n",
              " ([[283, 1719], [491, 1719], [491, 1755], [283, 1755]],\n",
              "  'bonne maitrise',\n",
              "  0.9896046370567361),\n",
              " ([[114, 1796], [474, 1796], [474, 1848], [114, 1848]],\n",
              "  'Interpersonnelles',\n",
              "  0.8954474503429425),\n",
              " ([[148, 1878], [287, 1878], [287, 1918], [148, 1918]],\n",
              "  'Flexibilité.',\n",
              "  0.9956515971782893),\n",
              " ([[149, 1937], [267, 1937], [267, 1975], [149, 1975]],\n",
              "  'Rigueur .',\n",
              "  0.8194623336716509),\n",
              " ([[143, 1987], [374, 1987], [374, 2035], [143, 2035]],\n",
              "  'Espritdéquipe',\n",
              "  0.6769690876669094),\n",
              " ([[617, 2061], [1030, 2061], [1030, 2114], [617, 2114]],\n",
              "  \"CENTRES D'INTÉRÊT\",\n",
              "  0.9908033317872978),\n",
              " ([[144, 2178], [251, 2178], [251, 2220], [144, 2220]],\n",
              "  'Voyage',\n",
              "  0.9995257149145776),\n",
              " ([[145, 2235], [227, 2235], [227, 2273], [145, 2273]],\n",
              "  'Sport',\n",
              "  0.6938974078301947)]"
            ]
          },
          "metadata": {},
          "execution_count": 17
        }
      ]
    },
    {
      "cell_type": "code",
      "source": [
        "text=''\n",
        "for i in range(len(bounds)):\n",
        "  text = text + bounds[i][1] +'\\n'\n",
        "\n",
        "print(text)"
      ],
      "metadata": {
        "colab": {
          "base_uri": "https://localhost:8080/"
        },
        "id": "BAsYUNMib9jX",
        "outputId": "77a18e0e-7078-45f4-e2d7-b097901329b2"
      },
      "execution_count": 18,
      "outputs": [
        {
          "output_type": "stream",
          "name": "stdout",
          "text": [
            "SALMA SAMIH\n",
            "Etudiante en première année génie industrielet maintenance\n",
            "Adresse\n",
            "11 Rue 03 Hay EL MESSOUDIA C D Casablanca-MAROC\n",
            "Tél : 0605111648\n",
            "Email : samih.salma@gmail .com\n",
            "FORMATIONS & DIPLOMES\n",
            "2021-2022\n",
            "Ecole Supérieure de Technologie de Safi, Université   Cadi iyyad\n",
            "Première année génie industriel et maintenance _\n",
            "2020-2021\n",
            "Lycée Hassan II\n",
            "Baccalauréat en Sciences physique et chimie; mention très bien.\n",
            "Compétences\n",
            "Techniques\n",
            "Conception assistée par ordinateur des systèmes mécaniques et électronique.\n",
            "Informatiques\n",
            "Programmation\n",
            "langage C.\n",
            "CAO/DAO\n",
            "AutoCad, Catia.\n",
            "Logiciels\n",
            "Proteus Professional, MAX+PLUS,\n",
            "Microsoft Office.\n",
            "Linguistiques\n",
            "Arabe\n",
            "Courant\n",
            "Français\n",
            "bonne maitrise\n",
            "Anglais\n",
            "bonne maitrise\n",
            "Interpersonnelles\n",
            "Flexibilité.\n",
            "Rigueur .\n",
            "Espritdéquipe\n",
            "CENTRES D'INTÉRÊT\n",
            "Voyage\n",
            "Sport\n",
            "\n"
          ]
        }
      ]
    },
    {
      "cell_type": "code",
      "source": [
        "nlp=spacy.load('en_core_web_sm')"
      ],
      "metadata": {
        "id": "HkkaNRqfcCDy"
      },
      "execution_count": 19,
      "outputs": []
    },
    {
      "cell_type": "code",
      "source": [
        "doc = nlp(text)"
      ],
      "metadata": {
        "id": "qXnBRHhEcI3p"
      },
      "execution_count": 20,
      "outputs": []
    },
    {
      "cell_type": "code",
      "source": [
        "from spacy import displacy\n",
        "\n",
        "displacy.render(nlp(doc.text),style='ent', jupyter=True)"
      ],
      "metadata": {
        "colab": {
          "base_uri": "https://localhost:8080/",
          "height": 1000
        },
        "id": "0ETzYpO4cLkM",
        "outputId": "e24fec97-04e8-48c9-9f42-7ea1e5e724de"
      },
      "execution_count": 21,
      "outputs": [
        {
          "output_type": "display_data",
          "data": {
            "text/plain": [
              "<IPython.core.display.HTML object>"
            ],
            "text/html": [
              "<span class=\"tex2jax_ignore\"><div class=\"entities\" style=\"line-height: 2.5; direction: ltr\">SALMA SAMIH</br>Etudiante en première année génie industrielet maintenance</br>\n",
              "<mark class=\"entity\" style=\"background: #7aecec; padding: 0.45em 0.6em; margin: 0 0.25em; line-height: 1; border-radius: 0.35em;\">\n",
              "    Adresse\n",
              "11 Rue\n",
              "    <span style=\"font-size: 0.8em; font-weight: bold; line-height: 1; border-radius: 0.35em; vertical-align: middle; margin-left: 0.5rem\">ORG</span>\n",
              "</mark>\n",
              " 03 Hay EL MESSOUDIA C D Casablanca-MAROC</br>Tél : \n",
              "<mark class=\"entity\" style=\"background: #e4e7d2; padding: 0.45em 0.6em; margin: 0 0.25em; line-height: 1; border-radius: 0.35em;\">\n",
              "    0605111648\n",
              "    <span style=\"font-size: 0.8em; font-weight: bold; line-height: 1; border-radius: 0.35em; vertical-align: middle; margin-left: 0.5rem\">CARDINAL</span>\n",
              "</mark>\n",
              "</br>Email : samih.salma@gmail .com</br>\n",
              "<mark class=\"entity\" style=\"background: #7aecec; padding: 0.45em 0.6em; margin: 0 0.25em; line-height: 1; border-radius: 0.35em;\">\n",
              "    FORMATIONS &amp; DIPLOMES\n",
              "    <span style=\"font-size: 0.8em; font-weight: bold; line-height: 1; border-radius: 0.35em; vertical-align: middle; margin-left: 0.5rem\">ORG</span>\n",
              "</mark>\n",
              "</br>\n",
              "<mark class=\"entity\" style=\"background: #bfe1d9; padding: 0.45em 0.6em; margin: 0 0.25em; line-height: 1; border-radius: 0.35em;\">\n",
              "    2021-2022\n",
              "    <span style=\"font-size: 0.8em; font-weight: bold; line-height: 1; border-radius: 0.35em; vertical-align: middle; margin-left: 0.5rem\">DATE</span>\n",
              "</mark>\n",
              "</br>Ecole Supérieure de Technologie de Safi, Université   Cadi iyyad</br>Première année génie industriel et maintenance _</br>\n",
              "<mark class=\"entity\" style=\"background: #bfe1d9; padding: 0.45em 0.6em; margin: 0 0.25em; line-height: 1; border-radius: 0.35em;\">\n",
              "    2020-2021\n",
              "    <span style=\"font-size: 0.8em; font-weight: bold; line-height: 1; border-radius: 0.35em; vertical-align: middle; margin-left: 0.5rem\">DATE</span>\n",
              "</mark>\n",
              "</br>\n",
              "<mark class=\"entity\" style=\"background: #aa9cfc; padding: 0.45em 0.6em; margin: 0 0.25em; line-height: 1; border-radius: 0.35em;\">\n",
              "    Lycée Hassan II\n",
              "    <span style=\"font-size: 0.8em; font-weight: bold; line-height: 1; border-radius: 0.35em; vertical-align: middle; margin-left: 0.5rem\">PERSON</span>\n",
              "</mark>\n",
              "</br>\n",
              "<mark class=\"entity\" style=\"background: #7aecec; padding: 0.45em 0.6em; margin: 0 0.25em; line-height: 1; border-radius: 0.35em;\">\n",
              "    Baccalauréat en Sciences\n",
              "    <span style=\"font-size: 0.8em; font-weight: bold; line-height: 1; border-radius: 0.35em; vertical-align: middle; margin-left: 0.5rem\">ORG</span>\n",
              "</mark>\n",
              " physique et chimie; mention très bien.</br>Compétences</br>Techniques</br>Conception assistée par ordinateur des systèmes mécaniques et électronique.</br>Informatiques</br>Programmation</br>langage C.</br>CAO/DAO</br>\n",
              "<mark class=\"entity\" style=\"background: #7aecec; padding: 0.45em 0.6em; margin: 0 0.25em; line-height: 1; border-radius: 0.35em;\">\n",
              "    AutoCad\n",
              "    <span style=\"font-size: 0.8em; font-weight: bold; line-height: 1; border-radius: 0.35em; vertical-align: middle; margin-left: 0.5rem\">ORG</span>\n",
              "</mark>\n",
              ", \n",
              "<mark class=\"entity\" style=\"background: #7aecec; padding: 0.45em 0.6em; margin: 0 0.25em; line-height: 1; border-radius: 0.35em;\">\n",
              "    Catia\n",
              "    <span style=\"font-size: 0.8em; font-weight: bold; line-height: 1; border-radius: 0.35em; vertical-align: middle; margin-left: 0.5rem\">ORG</span>\n",
              "</mark>\n",
              ".</br>\n",
              "<mark class=\"entity\" style=\"background: #7aecec; padding: 0.45em 0.6em; margin: 0 0.25em; line-height: 1; border-radius: 0.35em;\">\n",
              "    Logiciels\n",
              "Proteus Professional\n",
              "    <span style=\"font-size: 0.8em; font-weight: bold; line-height: 1; border-radius: 0.35em; vertical-align: middle; margin-left: 0.5rem\">ORG</span>\n",
              "</mark>\n",
              ", MAX+PLUS,</br>\n",
              "<mark class=\"entity\" style=\"background: #7aecec; padding: 0.45em 0.6em; margin: 0 0.25em; line-height: 1; border-radius: 0.35em;\">\n",
              "    Microsoft Office\n",
              "    <span style=\"font-size: 0.8em; font-weight: bold; line-height: 1; border-radius: 0.35em; vertical-align: middle; margin-left: 0.5rem\">ORG</span>\n",
              "</mark>\n",
              ".</br>\n",
              "<mark class=\"entity\" style=\"background: #7aecec; padding: 0.45em 0.6em; margin: 0 0.25em; line-height: 1; border-radius: 0.35em;\">\n",
              "    Linguistiques\n",
              "Arabe\n",
              "Courant\n",
              "Français\n",
              "    <span style=\"font-size: 0.8em; font-weight: bold; line-height: 1; border-radius: 0.35em; vertical-align: middle; margin-left: 0.5rem\">ORG</span>\n",
              "</mark>\n",
              "</br>bonne maitrise</br>Anglais</br>bonne maitrise</br>Interpersonnelles</br>Flexibilité.</br>Rigueur .</br>Espritdéquipe</br>CENTRES D'INTÉRÊT</br>Voyage</br>Sport</br></div></span>"
            ]
          },
          "metadata": {}
        }
      ]
    }
  ]
}